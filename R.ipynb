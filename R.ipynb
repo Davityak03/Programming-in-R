{
 "cells": [
  {
   "cell_type": "code",
   "execution_count": 2,
   "id": "55b173ea",
   "metadata": {},
   "outputs": [
    {
     "data": {
      "text/html": [
       "<ol class=list-inline>\n",
       "\t<li>81</li>\n",
       "\t<li>125</li>\n",
       "</ol>\n"
      ],
      "text/latex": [
       "\\begin{enumerate*}\n",
       "\\item 81\n",
       "\\item 125\n",
       "\\end{enumerate*}\n"
      ],
      "text/markdown": [
       "1. 81\n",
       "2. 125\n",
       "\n",
       "\n"
      ],
      "text/plain": [
       "[1]  81 125"
      ]
     },
     "metadata": {},
     "output_type": "display_data"
    }
   ],
   "source": [
    "vector1<-c(81,125)\n",
    "vector1"
   ]
  },
  {
   "cell_type": "code",
   "execution_count": 7,
   "id": "3f0e5df8",
   "metadata": {},
   "outputs": [
    {
     "data": {
      "text/html": [
       "<ol class=list-inline>\n",
       "\t<li>81</li>\n",
       "\t<li>125</li>\n",
       "</ol>\n"
      ],
      "text/latex": [
       "\\begin{enumerate*}\n",
       "\\item 81\n",
       "\\item 125\n",
       "\\end{enumerate*}\n"
      ],
      "text/markdown": [
       "1. 81\n",
       "2. 125\n",
       "\n",
       "\n"
      ],
      "text/plain": [
       "[1]  81 125"
      ]
     },
     "metadata": {},
     "output_type": "display_data"
    },
    {
     "data": {
      "text/html": [
       "<ol class=list-inline>\n",
       "\t<li>'hello'</li>\n",
       "\t<li>'world'</li>\n",
       "</ol>\n"
      ],
      "text/latex": [
       "\\begin{enumerate*}\n",
       "\\item 'hello'\n",
       "\\item 'world'\n",
       "\\end{enumerate*}\n"
      ],
      "text/markdown": [
       "1. 'hello'\n",
       "2. 'world'\n",
       "\n",
       "\n"
      ],
      "text/plain": [
       "[1] \"hello\" \"world\""
      ]
     },
     "metadata": {},
     "output_type": "display_data"
    },
    {
     "data": {
      "text/html": [
       "<ol class=list-inline>\n",
       "\t<li>FALSE</li>\n",
       "\t<li>TRUE</li>\n",
       "</ol>\n"
      ],
      "text/latex": [
       "\\begin{enumerate*}\n",
       "\\item FALSE\n",
       "\\item TRUE\n",
       "\\end{enumerate*}\n"
      ],
      "text/markdown": [
       "1. FALSE\n",
       "2. TRUE\n",
       "\n",
       "\n"
      ],
      "text/plain": [
       "[1] FALSE  TRUE"
      ]
     },
     "metadata": {},
     "output_type": "display_data"
    }
   ],
   "source": [
    "#three types of vectors are there\n",
    "#1Numeric\n",
    "vector1<-c(81,125)\n",
    "vector1\n",
    "#2Character\n",
    "char_vector<-c(\"hello\",\"world\")\n",
    "char_vector\n",
    "#3Logical \n",
    "log_vector<-vector1>90\n",
    "log_vector"
   ]
  },
  {
   "cell_type": "code",
   "execution_count": 8,
   "id": "48521d8c",
   "metadata": {},
   "outputs": [
    {
     "data": {
      "text/html": [
       "<ol class=list-inline>\n",
       "\t<li>Animation</li>\n",
       "\t<li>Comedy</li>\n",
       "\t<li>Crime</li>\n",
       "\t<li>Animation</li>\n",
       "\t<li>Comedy</li>\n",
       "</ol>\n",
       "\n",
       "<details>\n",
       "\t<summary style=display:list-item;cursor:pointer>\n",
       "\t\t<strong>Levels</strong>:\n",
       "\t</summary>\n",
       "\t<ol class=list-inline>\n",
       "\t\t<li>'Animation'</li>\n",
       "\t\t<li>'Comedy'</li>\n",
       "\t\t<li>'Crime'</li>\n",
       "\t</ol>\n",
       "</details>"
      ],
      "text/latex": [
       "\\begin{enumerate*}\n",
       "\\item Animation\n",
       "\\item Comedy\n",
       "\\item Crime\n",
       "\\item Animation\n",
       "\\item Comedy\n",
       "\\end{enumerate*}\n",
       "\n",
       "\\emph{Levels}: \\begin{enumerate*}\n",
       "\\item 'Animation'\n",
       "\\item 'Comedy'\n",
       "\\item 'Crime'\n",
       "\\end{enumerate*}\n"
      ],
      "text/markdown": [
       "1. Animation\n",
       "2. Comedy\n",
       "3. Crime\n",
       "4. Animation\n",
       "5. Comedy\n",
       "\n",
       "\n",
       "\n",
       "**Levels**: 1. 'Animation'\n",
       "2. 'Comedy'\n",
       "3. 'Crime'\n",
       "\n",
       "\n"
      ],
      "text/plain": [
       "[1] Animation Comedy    Crime     Animation Comedy   \n",
       "Levels: Animation Comedy Crime"
      ]
     },
     "metadata": {},
     "output_type": "display_data"
    }
   ],
   "source": [
    "#factors\n",
    "genre_vector<-c(\"Animation\",\"Comedy\",\"Crime\",\"Animation\",\"Comedy\")\n",
    "genre_factor<-factor(genre_vector)\n",
    "genre_factor"
   ]
  },
  {
   "cell_type": "code",
   "execution_count": 9,
   "id": "e1e79521",
   "metadata": {},
   "outputs": [
    {
     "data": {
      "text/plain": [
       "   Length     Class      Mode \n",
       "        5 character character "
      ]
     },
     "metadata": {},
     "output_type": "display_data"
    }
   ],
   "source": [
    "summary(genre_vector)"
   ]
  },
  {
   "cell_type": "code",
   "execution_count": 10,
   "id": "fdde9599",
   "metadata": {},
   "outputs": [
    {
     "data": {
      "text/html": [
       "<dl class=dl-horizontal>\n",
       "\t<dt>Animation</dt>\n",
       "\t\t<dd>2</dd>\n",
       "\t<dt>Comedy</dt>\n",
       "\t\t<dd>2</dd>\n",
       "\t<dt>Crime</dt>\n",
       "\t\t<dd>1</dd>\n",
       "</dl>\n"
      ],
      "text/latex": [
       "\\begin{description*}\n",
       "\\item[Animation] 2\n",
       "\\item[Comedy] 2\n",
       "\\item[Crime] 1\n",
       "\\end{description*}\n"
      ],
      "text/markdown": [
       "Animation\n",
       ":   2Comedy\n",
       ":   2Crime\n",
       ":   1\n",
       "\n"
      ],
      "text/plain": [
       "Animation    Comedy     Crime \n",
       "        2         2         1 "
      ]
     },
     "metadata": {},
     "output_type": "display_data"
    }
   ],
   "source": [
    "summary(genre_factor)"
   ]
  },
  {
   "cell_type": "code",
   "execution_count": 11,
   "id": "0f7ed819",
   "metadata": {},
   "outputs": [
    {
     "data": {
      "text/html": [
       "<ol class=list-inline>\n",
       "\t<li>'Very short'</li>\n",
       "\t<li>'Short'</li>\n",
       "\t<li>'Medium'</li>\n",
       "\t<li>'Short'</li>\n",
       "\t<li>'Long'</li>\n",
       "\t<li>'Very short'</li>\n",
       "\t<li>'Very long'</li>\n",
       "</ol>\n"
      ],
      "text/latex": [
       "\\begin{enumerate*}\n",
       "\\item 'Very short'\n",
       "\\item 'Short'\n",
       "\\item 'Medium'\n",
       "\\item 'Short'\n",
       "\\item 'Long'\n",
       "\\item 'Very short'\n",
       "\\item 'Very long'\n",
       "\\end{enumerate*}\n"
      ],
      "text/markdown": [
       "1. 'Very short'\n",
       "2. 'Short'\n",
       "3. 'Medium'\n",
       "4. 'Short'\n",
       "5. 'Long'\n",
       "6. 'Very short'\n",
       "7. 'Very long'\n",
       "\n",
       "\n"
      ],
      "text/plain": [
       "[1] \"Very short\" \"Short\"      \"Medium\"     \"Short\"      \"Long\"      \n",
       "[6] \"Very short\" \"Very long\" "
      ]
     },
     "metadata": {},
     "output_type": "display_data"
    },
    {
     "data": {
      "text/html": [
       "<ol class=list-inline>\n",
       "\t<li>Very short</li>\n",
       "\t<li>Short</li>\n",
       "\t<li>Medium</li>\n",
       "\t<li>Short</li>\n",
       "\t<li>Long</li>\n",
       "\t<li>Very short</li>\n",
       "\t<li>Very long</li>\n",
       "</ol>\n",
       "\n",
       "<details>\n",
       "\t<summary style=display:list-item;cursor:pointer>\n",
       "\t\t<strong>Levels</strong>:\n",
       "\t</summary>\n",
       "\t<ol class=list-inline>\n",
       "\t\t<li>'Very short'</li>\n",
       "\t\t<li>'Short'</li>\n",
       "\t\t<li>'Medium'</li>\n",
       "\t\t<li>'Long'</li>\n",
       "\t\t<li>'Very long'</li>\n",
       "\t</ol>\n",
       "</details>"
      ],
      "text/latex": [
       "\\begin{enumerate*}\n",
       "\\item Very short\n",
       "\\item Short\n",
       "\\item Medium\n",
       "\\item Short\n",
       "\\item Long\n",
       "\\item Very short\n",
       "\\item Very long\n",
       "\\end{enumerate*}\n",
       "\n",
       "\\emph{Levels}: \\begin{enumerate*}\n",
       "\\item 'Very short'\n",
       "\\item 'Short'\n",
       "\\item 'Medium'\n",
       "\\item 'Long'\n",
       "\\item 'Very long'\n",
       "\\end{enumerate*}\n"
      ],
      "text/markdown": [
       "1. Very short\n",
       "2. Short\n",
       "3. Medium\n",
       "4. Short\n",
       "5. Long\n",
       "6. Very short\n",
       "7. Very long\n",
       "\n",
       "\n",
       "\n",
       "**Levels**: 1. 'Very short'\n",
       "2. 'Short'\n",
       "3. 'Medium'\n",
       "4. 'Long'\n",
       "5. 'Very long'\n",
       "\n",
       "\n"
      ],
      "text/plain": [
       "[1] Very short Short      Medium     Short      Long       Very short Very long \n",
       "Levels: Very short < Short < Medium < Long < Very long"
      ]
     },
     "metadata": {},
     "output_type": "display_data"
    }
   ],
   "source": [
    "#ordered factor\n",
    "movie_length_vector<-c(\"Very short\",\"Short\",\"Medium\",\"Short\",\"Long\",\"Very short\",\"Very long\")\n",
    "movie_length_vector\n",
    "movie_length_factor<-factor(movie_length_vector,ordered=TRUE,levels=c(\"Very short\",\"Short\",\"Medium\",\"Long\",\"Very long\"))\n",
    "movie_length_factor"
   ]
  },
  {
   "cell_type": "code",
   "execution_count": 16,
   "id": "12cf21ba",
   "metadata": {},
   "outputs": [
    {
     "data": {
      "text/html": [
       "<strong>Black:</strong> 2010"
      ],
      "text/latex": [
       "\\textbf{Black:} 2010"
      ],
      "text/markdown": [
       "**Black:** 2010"
      ],
      "text/plain": [
       "Black \n",
       " 2010 "
      ]
     },
     "metadata": {},
     "output_type": "display_data"
    }
   ],
   "source": [
    "#vector operations\n",
    "year<-c(1985,2003,2010,2002)\n",
    "names(year)<-c(\"The Breakfast\",\"American\",\"Black\",\"Chicago\")#mapping of variables in two vectors\n",
    "year[\"Black\"]"
   ]
  },
  {
   "cell_type": "code",
   "execution_count": 17,
   "id": "e02d7e9a",
   "metadata": {},
   "outputs": [
    {
     "data": {
      "text/html": [
       "4"
      ],
      "text/latex": [
       "4"
      ],
      "text/markdown": [
       "4"
      ],
      "text/plain": [
       "[1] 4"
      ]
     },
     "metadata": {},
     "output_type": "display_data"
    }
   ],
   "source": [
    "#length of a vector\n",
    "length(year)"
   ]
  },
  {
   "cell_type": "code",
   "execution_count": 18,
   "id": "b058e47b",
   "metadata": {},
   "outputs": [
    {
     "data": {
      "text/html": [
       "<dl class=dl-horizontal>\n",
       "\t<dt>The Breakfast</dt>\n",
       "\t\t<dd>1985</dd>\n",
       "\t<dt>Chicago</dt>\n",
       "\t\t<dd>2002</dd>\n",
       "\t<dt>American</dt>\n",
       "\t\t<dd>2003</dd>\n",
       "\t<dt>Black</dt>\n",
       "\t\t<dd>2010</dd>\n",
       "</dl>\n"
      ],
      "text/latex": [
       "\\begin{description*}\n",
       "\\item[The Breakfast] 1985\n",
       "\\item[Chicago] 2002\n",
       "\\item[American] 2003\n",
       "\\item[Black] 2010\n",
       "\\end{description*}\n"
      ],
      "text/markdown": [
       "The Breakfast\n",
       ":   1985Chicago\n",
       ":   2002American\n",
       ":   2003Black\n",
       ":   2010\n",
       "\n"
      ],
      "text/plain": [
       "The Breakfast       Chicago      American         Black \n",
       "         1985          2002          2003          2010 "
      ]
     },
     "metadata": {},
     "output_type": "display_data"
    }
   ],
   "source": [
    "#sorting a vector\n",
    "year_sorted<-sort(year)\n",
    "year_sorted"
   ]
  },
  {
   "cell_type": "code",
   "execution_count": 20,
   "id": "d99d0c6e",
   "metadata": {},
   "outputs": [
    {
     "data": {
      "text/html": [
       "1985"
      ],
      "text/latex": [
       "1985"
      ],
      "text/markdown": [
       "1985"
      ],
      "text/plain": [
       "[1] 1985"
      ]
     },
     "metadata": {},
     "output_type": "display_data"
    },
    {
     "data": {
      "text/html": [
       "2010"
      ],
      "text/latex": [
       "2010"
      ],
      "text/markdown": [
       "2010"
      ],
      "text/plain": [
       "[1] 2010"
      ]
     },
     "metadata": {},
     "output_type": "display_data"
    },
    {
     "data": {
      "text/html": [
       "2000"
      ],
      "text/latex": [
       "2000"
      ],
      "text/markdown": [
       "2000"
      ],
      "text/plain": [
       "[1] 2000"
      ]
     },
     "metadata": {},
     "output_type": "display_data"
    }
   ],
   "source": [
    "#finding smallest anf largest in a vector\n",
    "min(year)\n",
    "max(year)\n",
    "#average of numbers\n",
    "mean(year)"
   ]
  },
  {
   "cell_type": "code",
   "execution_count": 23,
   "id": "433e42ca",
   "metadata": {},
   "outputs": [
    {
     "data": {
      "text/html": [
       "<strong>The Breakfast:</strong> 1985"
      ],
      "text/latex": [
       "\\textbf{The Breakfast:} 1985"
      ],
      "text/markdown": [
       "**The Breakfast:** 1985"
      ],
      "text/plain": [
       "The Breakfast \n",
       "         1985 "
      ]
     },
     "metadata": {},
     "output_type": "display_data"
    },
    {
     "data": {
      "text/html": [
       "<dl class=dl-horizontal>\n",
       "\t<dt>The Breakfast</dt>\n",
       "\t\t<dd>1985</dd>\n",
       "\t<dt>American</dt>\n",
       "\t\t<dd>2003</dd>\n",
       "\t<dt>Black</dt>\n",
       "\t\t<dd>2010</dd>\n",
       "</dl>\n"
      ],
      "text/latex": [
       "\\begin{description*}\n",
       "\\item[The Breakfast] 1985\n",
       "\\item[American] 2003\n",
       "\\item[Black] 2010\n",
       "\\end{description*}\n"
      ],
      "text/markdown": [
       "The Breakfast\n",
       ":   1985American\n",
       ":   2003Black\n",
       ":   2010\n",
       "\n"
      ],
      "text/plain": [
       "The Breakfast      American         Black \n",
       "         1985          2003          2010 "
      ]
     },
     "metadata": {},
     "output_type": "display_data"
    },
    {
     "data": {
      "text/html": [
       "<dl class=dl-horizontal>\n",
       "\t<dt>American</dt>\n",
       "\t\t<dd>2003</dd>\n",
       "\t<dt>Black</dt>\n",
       "\t\t<dd>2010</dd>\n",
       "\t<dt>Chicago</dt>\n",
       "\t\t<dd>2002</dd>\n",
       "</dl>\n"
      ],
      "text/latex": [
       "\\begin{description*}\n",
       "\\item[American] 2003\n",
       "\\item[Black] 2010\n",
       "\\item[Chicago] 2002\n",
       "\\end{description*}\n"
      ],
      "text/markdown": [
       "American\n",
       ":   2003Black\n",
       ":   2010Chicago\n",
       ":   2002\n",
       "\n"
      ],
      "text/plain": [
       "American    Black  Chicago \n",
       "    2003     2010     2002 "
      ]
     },
     "metadata": {},
     "output_type": "display_data"
    },
    {
     "data": {
      "text/html": [
       "<dl class=dl-horizontal>\n",
       "\t<dt>The Breakfast</dt>\n",
       "\t\t<dd>1985</dd>\n",
       "\t<dt>American</dt>\n",
       "\t\t<dd>2003</dd>\n",
       "\t<dt>Black</dt>\n",
       "\t\t<dd>2010</dd>\n",
       "\t<dt>Chicago</dt>\n",
       "\t\t<dd>2002</dd>\n",
       "</dl>\n"
      ],
      "text/latex": [
       "\\begin{description*}\n",
       "\\item[The Breakfast] 1985\n",
       "\\item[American] 2003\n",
       "\\item[Black] 2010\n",
       "\\item[Chicago] 2002\n",
       "\\end{description*}\n"
      ],
      "text/markdown": [
       "The Breakfast\n",
       ":   1985American\n",
       ":   2003Black\n",
       ":   2010Chicago\n",
       ":   2002\n",
       "\n"
      ],
      "text/plain": [
       "The Breakfast      American         Black       Chicago \n",
       "         1985          2003          2010          2002 "
      ]
     },
     "metadata": {},
     "output_type": "display_data"
    }
   ],
   "source": [
    "#vector indexing\n",
    "year[1]\n",
    "year[1:3]\n",
    "year[-1]#removes that element(-ve sign)\n",
    "year"
   ]
  },
  {
   "cell_type": "code",
   "execution_count": 24,
   "id": "b181a461",
   "metadata": {},
   "outputs": [
    {
     "data": {
      "text/html": [
       "<table>\n",
       "<tbody>\n",
       "\t<tr><td>1985</td><td>2010</td></tr>\n",
       "\t<tr><td>2003</td><td>2002</td></tr>\n",
       "</tbody>\n",
       "</table>\n"
      ],
      "text/latex": [
       "\\begin{tabular}{ll}\n",
       "\t 1985 & 2010\\\\\n",
       "\t 2003 & 2002\\\\\n",
       "\\end{tabular}\n"
      ],
      "text/markdown": [
       "\n",
       "| 1985 | 2010 |\n",
       "| 2003 | 2002 |\n",
       "\n"
      ],
      "text/plain": [
       "     [,1] [,2]\n",
       "[1,] 1985 2010\n",
       "[2,] 2003 2002"
      ]
     },
     "metadata": {},
     "output_type": "display_data"
    }
   ],
   "source": [
    "#arrays and matrices\n",
    "array_year<-array(year,dim=c(2,2))\n",
    "array_year"
   ]
  },
  {
   "cell_type": "code",
   "execution_count": 26,
   "id": "c2822b61",
   "metadata": {},
   "outputs": [
    {
     "data": {
      "text/html": [
       "2010"
      ],
      "text/latex": [
       "2010"
      ],
      "text/markdown": [
       "2010"
      ],
      "text/plain": [
       "[1] 2010"
      ]
     },
     "metadata": {},
     "output_type": "display_data"
    },
    {
     "data": {
      "text/html": [
       "<ol class=list-inline>\n",
       "\t<li>1985</li>\n",
       "\t<li>2010</li>\n",
       "</ol>\n"
      ],
      "text/latex": [
       "\\begin{enumerate*}\n",
       "\\item 1985\n",
       "\\item 2010\n",
       "\\end{enumerate*}\n"
      ],
      "text/markdown": [
       "1. 1985\n",
       "2. 2010\n",
       "\n",
       "\n"
      ],
      "text/plain": [
       "[1] 1985 2010"
      ]
     },
     "metadata": {},
     "output_type": "display_data"
    }
   ],
   "source": [
    "array_year[1,2]#accessing elements[row,column]\n",
    "array_year[1,]"
   ]
  },
  {
   "cell_type": "code",
   "execution_count": 28,
   "id": "41ebfc89",
   "metadata": {},
   "outputs": [
    {
     "data": {
      "text/html": [
       "<table>\n",
       "<tbody>\n",
       "\t<tr><td>1985</td><td>2010</td></tr>\n",
       "\t<tr><td>2003</td><td>2002</td></tr>\n",
       "</tbody>\n",
       "</table>\n"
      ],
      "text/latex": [
       "\\begin{tabular}{ll}\n",
       "\t 1985 & 2010\\\\\n",
       "\t 2003 & 2002\\\\\n",
       "\\end{tabular}\n"
      ],
      "text/markdown": [
       "\n",
       "| 1985 | 2010 |\n",
       "| 2003 | 2002 |\n",
       "\n"
      ],
      "text/plain": [
       "     [,1] [,2]\n",
       "[1,] 1985 2010\n",
       "[2,] 2003 2002"
      ]
     },
     "metadata": {},
     "output_type": "display_data"
    },
    {
     "data": {
      "text/html": [
       "<table>\n",
       "<tbody>\n",
       "\t<tr><td>1985</td><td>2003</td></tr>\n",
       "\t<tr><td>2010</td><td>2002</td></tr>\n",
       "</tbody>\n",
       "</table>\n"
      ],
      "text/latex": [
       "\\begin{tabular}{ll}\n",
       "\t 1985 & 2003\\\\\n",
       "\t 2010 & 2002\\\\\n",
       "\\end{tabular}\n"
      ],
      "text/markdown": [
       "\n",
       "| 1985 | 2003 |\n",
       "| 2010 | 2002 |\n",
       "\n"
      ],
      "text/plain": [
       "     [,1] [,2]\n",
       "[1,] 1985 2003\n",
       "[2,] 2010 2002"
      ]
     },
     "metadata": {},
     "output_type": "display_data"
    }
   ],
   "source": [
    "year_matrix<-matrix(year,nrow=2,ncol=2)#by default matrix is made by columns\n",
    "year_matrix\n",
    "year_matrix<-matrix(year,nrow=2,ncol=2,byrow=TRUE)#matrix is made by rows\n",
    "year_matrix"
   ]
  },
  {
   "cell_type": "code",
   "execution_count": 29,
   "id": "420b3a41",
   "metadata": {},
   "outputs": [
    {
     "data": {
      "text/html": [
       "<ol>\n",
       "\t<li>123</li>\n",
       "</ol>\n"
      ],
      "text/latex": [
       "\\begin{enumerate}\n",
       "\\item 123\n",
       "\\end{enumerate}\n"
      ],
      "text/markdown": [
       "1. 123\n",
       "\n",
       "\n"
      ],
      "text/plain": [
       "[[1]]\n",
       "[1] 123\n"
      ]
     },
     "metadata": {},
     "output_type": "display_data"
    },
    {
     "data": {
      "text/html": [
       "<ol>\n",
       "\t<li>123</li>\n",
       "\t<li><ol class=list-inline>\n",
       "\t<li>67</li>\n",
       "\t<li>56</li>\n",
       "</ol>\n",
       "</li>\n",
       "</ol>\n"
      ],
      "text/latex": [
       "\\begin{enumerate}\n",
       "\\item 123\n",
       "\\item \\begin{enumerate*}\n",
       "\\item 67\n",
       "\\item 56\n",
       "\\end{enumerate*}\n",
       "\n",
       "\\end{enumerate}\n"
      ],
      "text/markdown": [
       "1. 123\n",
       "2. 1. 67\n",
       "2. 56\n",
       "\n",
       "\n",
       "\n",
       "\n",
       "\n"
      ],
      "text/plain": [
       "[[1]]\n",
       "[1] 123\n",
       "\n",
       "[[2]]\n",
       "[1] 67 56\n"
      ]
     },
     "metadata": {},
     "output_type": "display_data"
    }
   ],
   "source": [
    "#Lists in R\n",
    "list1=list(\"Hello\",123,c(67,56))\n",
    "list1[2]\n",
    "list1[2:3]"
   ]
  },
  {
   "cell_type": "code",
   "execution_count": 36,
   "id": "8276d604",
   "metadata": {},
   "outputs": [
    {
     "data": {
      "text/html": [
       "<ol class=list-inline>\n",
       "\t<li>'Animation'</li>\n",
       "\t<li>'Adventure'</li>\n",
       "\t<li>'Comedy'</li>\n",
       "</ol>\n"
      ],
      "text/latex": [
       "\\begin{enumerate*}\n",
       "\\item 'Animation'\n",
       "\\item 'Adventure'\n",
       "\\item 'Comedy'\n",
       "\\end{enumerate*}\n"
      ],
      "text/markdown": [
       "1. 'Animation'\n",
       "2. 'Adventure'\n",
       "3. 'Comedy'\n",
       "\n",
       "\n"
      ],
      "text/plain": [
       "[1] \"Animation\" \"Adventure\" \"Comedy\"   "
      ]
     },
     "metadata": {},
     "output_type": "display_data"
    },
    {
     "data": {
      "text/html": [
       "<strong>$genre</strong> = <ol class=list-inline>\n",
       "\t<li>'Animation'</li>\n",
       "\t<li>'Adventure'</li>\n",
       "\t<li>'Comedy'</li>\n",
       "</ol>\n"
      ],
      "text/latex": [
       "\\textbf{\\$genre} = \\begin{enumerate*}\n",
       "\\item 'Animation'\n",
       "\\item 'Adventure'\n",
       "\\item 'Comedy'\n",
       "\\end{enumerate*}\n"
      ],
      "text/markdown": [
       "**$genre** = 1. 'Animation'\n",
       "2. 'Adventure'\n",
       "3. 'Comedy'\n",
       "\n",
       "\n"
      ],
      "text/plain": [
       "$genre\n",
       "[1] \"Animation\" \"Adventure\" \"Comedy\"   \n"
      ]
     },
     "metadata": {},
     "output_type": "display_data"
    }
   ],
   "source": [
    "#named list\n",
    "movie_list=list(name=\"Toy Story\",year=1985,genre=c(\"Animation\",\"Adventure\",\"Comedy\"))\n",
    "movie_list$genre\n",
    "movie_list[\"genre\"]"
   ]
  },
  {
   "cell_type": "code",
   "execution_count": 38,
   "id": "aaf5aff1",
   "metadata": {},
   "outputs": [
    {
     "data": {
      "text/html": [
       "<dl>\n",
       "\t<dt>$name</dt>\n",
       "\t\t<dd>'Toy Story'</dd>\n",
       "\t<dt>$year</dt>\n",
       "\t\t<dd>1985</dd>\n",
       "\t<dt>$genre</dt>\n",
       "\t\t<dd><ol class=list-inline>\n",
       "\t<li>'Animation'</li>\n",
       "\t<li>'Adventure'</li>\n",
       "\t<li>'Comedy'</li>\n",
       "</ol>\n",
       "</dd>\n",
       "\t<dt>$age</dt>\n",
       "\t\t<dd>5</dd>\n",
       "</dl>\n"
      ],
      "text/latex": [
       "\\begin{description}\n",
       "\\item[\\$name] 'Toy Story'\n",
       "\\item[\\$year] 1985\n",
       "\\item[\\$genre] \\begin{enumerate*}\n",
       "\\item 'Animation'\n",
       "\\item 'Adventure'\n",
       "\\item 'Comedy'\n",
       "\\end{enumerate*}\n",
       "\n",
       "\\item[\\$age] 5\n",
       "\\end{description}\n"
      ],
      "text/markdown": [
       "$name\n",
       ":   'Toy Story'\n",
       "$year\n",
       ":   1985\n",
       "$genre\n",
       ":   1. 'Animation'\n",
       "2. 'Adventure'\n",
       "3. 'Comedy'\n",
       "\n",
       "\n",
       "\n",
       "$age\n",
       ":   5\n",
       "\n",
       "\n"
      ],
      "text/plain": [
       "$name\n",
       "[1] \"Toy Story\"\n",
       "\n",
       "$year\n",
       "[1] 1985\n",
       "\n",
       "$genre\n",
       "[1] \"Animation\" \"Adventure\" \"Comedy\"   \n",
       "\n",
       "$age\n",
       "[1] 5\n"
      ]
     },
     "metadata": {},
     "output_type": "display_data"
    },
    {
     "data": {
      "text/html": [
       "<dl>\n",
       "\t<dt>$name</dt>\n",
       "\t\t<dd>'Toy Story'</dd>\n",
       "\t<dt>$year</dt>\n",
       "\t\t<dd>1985</dd>\n",
       "\t<dt>$genre</dt>\n",
       "\t\t<dd><ol class=list-inline>\n",
       "\t<li>'Animation'</li>\n",
       "\t<li>'Adventure'</li>\n",
       "\t<li>'Comedy'</li>\n",
       "</ol>\n",
       "</dd>\n",
       "\t<dt>$age</dt>\n",
       "\t\t<dd>6</dd>\n",
       "</dl>\n"
      ],
      "text/latex": [
       "\\begin{description}\n",
       "\\item[\\$name] 'Toy Story'\n",
       "\\item[\\$year] 1985\n",
       "\\item[\\$genre] \\begin{enumerate*}\n",
       "\\item 'Animation'\n",
       "\\item 'Adventure'\n",
       "\\item 'Comedy'\n",
       "\\end{enumerate*}\n",
       "\n",
       "\\item[\\$age] 6\n",
       "\\end{description}\n"
      ],
      "text/markdown": [
       "$name\n",
       ":   'Toy Story'\n",
       "$year\n",
       ":   1985\n",
       "$genre\n",
       ":   1. 'Animation'\n",
       "2. 'Adventure'\n",
       "3. 'Comedy'\n",
       "\n",
       "\n",
       "\n",
       "$age\n",
       ":   6\n",
       "\n",
       "\n"
      ],
      "text/plain": [
       "$name\n",
       "[1] \"Toy Story\"\n",
       "\n",
       "$year\n",
       "[1] 1985\n",
       "\n",
       "$genre\n",
       "[1] \"Animation\" \"Adventure\" \"Comedy\"   \n",
       "\n",
       "$age\n",
       "[1] 6\n"
      ]
     },
     "metadata": {},
     "output_type": "display_data"
    },
    {
     "data": {
      "text/html": [
       "<dl>\n",
       "\t<dt>$name</dt>\n",
       "\t\t<dd>'Toy Story'</dd>\n",
       "\t<dt>$year</dt>\n",
       "\t\t<dd>1985</dd>\n",
       "\t<dt>$genre</dt>\n",
       "\t\t<dd><ol class=list-inline>\n",
       "\t<li>'Animation'</li>\n",
       "\t<li>'Adventure'</li>\n",
       "\t<li>'Comedy'</li>\n",
       "</ol>\n",
       "</dd>\n",
       "</dl>\n"
      ],
      "text/latex": [
       "\\begin{description}\n",
       "\\item[\\$name] 'Toy Story'\n",
       "\\item[\\$year] 1985\n",
       "\\item[\\$genre] \\begin{enumerate*}\n",
       "\\item 'Animation'\n",
       "\\item 'Adventure'\n",
       "\\item 'Comedy'\n",
       "\\end{enumerate*}\n",
       "\n",
       "\\end{description}\n"
      ],
      "text/markdown": [
       "$name\n",
       ":   'Toy Story'\n",
       "$year\n",
       ":   1985\n",
       "$genre\n",
       ":   1. 'Animation'\n",
       "2. 'Adventure'\n",
       "3. 'Comedy'\n",
       "\n",
       "\n",
       "\n",
       "\n",
       "\n"
      ],
      "text/plain": [
       "$name\n",
       "[1] \"Toy Story\"\n",
       "\n",
       "$year\n",
       "[1] 1985\n",
       "\n",
       "$genre\n",
       "[1] \"Animation\" \"Adventure\" \"Comedy\"   \n"
      ]
     },
     "metadata": {},
     "output_type": "display_data"
    }
   ],
   "source": [
    "#adding items to the named list\n",
    "movie_list[\"age\"]<-5\n",
    "movie_list\n",
    "#to mdify the value\n",
    "movie_list[\"age\"]<-6\n",
    "movie_list\n",
    "#to remove the element\n",
    "movie_list[\"age\"]<-NULL\n",
    "movie_list"
   ]
  },
  {
   "cell_type": "code",
   "execution_count": 39,
   "id": "3a74de4e",
   "metadata": {},
   "outputs": [
    {
     "name": "stdout",
     "output_type": "stream",
     "text": [
      "Enter any number :12\n",
      "Enter any number :13\n"
     ]
    },
    {
     "data": {
      "text/html": [
       "25"
      ],
      "text/latex": [
       "25"
      ],
      "text/markdown": [
       "25"
      ],
      "text/plain": [
       "[1] 25"
      ]
     },
     "metadata": {},
     "output_type": "display_data"
    }
   ],
   "source": [
    "#user defined functions\n",
    "add<-function(x,y){\n",
    "    return(x+y)\n",
    "}\n",
    "x=readline(prompt=\"Enter any number :\")\n",
    "x=as.integer(x)\n",
    "y=readline(prompt=\"Enter any number :\")\n",
    "y=as.integer(y)\n",
    "add(x,y)"
   ]
  },
  {
   "cell_type": "code",
   "execution_count": 42,
   "id": "a11edafd",
   "metadata": {},
   "outputs": [
    {
     "name": "stdout",
     "output_type": "stream",
     "text": [
      "[1] \"hello world\"\n"
     ]
    },
    {
     "data": {
      "text/html": [
       "3.14"
      ],
      "text/latex": [
       "3.14"
      ],
      "text/markdown": [
       "3.14"
      ],
      "text/plain": [
       "[1] 3.14"
      ]
     },
     "metadata": {},
     "output_type": "display_data"
    },
    {
     "data": {
      "text/html": [
       "2"
      ],
      "text/latex": [
       "2"
      ],
      "text/markdown": [
       "2"
      ],
      "text/plain": [
       "[1] 2"
      ]
     },
     "metadata": {},
     "output_type": "display_data"
    }
   ],
   "source": [
    "#global and local variables\n",
    "myfunction<-function(){\n",
    "    y<<-3.14#global\n",
    "    temp<-\"hello world\"\n",
    "    print(temp)\n",
    "}\n",
    "temp<-2\n",
    "myfunction()\n",
    "y\n",
    "temp"
   ]
  },
  {
   "cell_type": "code",
   "execution_count": 47,
   "id": "62c37250",
   "metadata": {},
   "outputs": [
    {
     "name": "stdout",
     "output_type": "stream",
     "text": [
      "[1] \"OOPS error was there\"\n",
      "[1] \"Warning char cannot be converted to int\"\n"
     ]
    }
   ],
   "source": [
    "#debugging and exception handling \n",
    "#error catching with try catch\n",
    "tryCatch(10+\"A\",error=function(e)\n",
    "    print(\"OOPS error was there\"))\n",
    "#warning handling \n",
    "tryCatch(as.integer(\"A\"),warning=function(e)\n",
    "    print(\"Warning char cannot be converted to int\"))"
   ]
  },
  {
   "cell_type": "code",
   "execution_count": 50,
   "id": "ba126199",
   "metadata": {},
   "outputs": [
    {
     "data": {
      "text/html": [
       "<table>\n",
       "<thead><tr><th scope=col>At1</th><th scope=col>At2</th><th scope=col>Class</th></tr></thead>\n",
       "<tbody>\n",
       "\t<tr><td> 1.1400</td><td>-0.1140</td><td>-1     </td></tr>\n",
       "\t<tr><td>-1.5200</td><td>-1.1500</td><td> 1     </td></tr>\n",
       "\t<tr><td>-1.0500</td><td> 0.7200</td><td>-1     </td></tr>\n",
       "\t<tr><td>-0.9160</td><td> 0.3970</td><td> 1     </td></tr>\n",
       "\t<tr><td>-1.0900</td><td> 0.4370</td><td> 1     </td></tr>\n",
       "\t<tr><td>-0.5840</td><td> 0.0937</td><td> 1     </td></tr>\n",
       "\t<tr><td> 1.8300</td><td> 0.4520</td><td>-1     </td></tr>\n",
       "\t<tr><td>-1.2500</td><td>-0.2860</td><td> 1     </td></tr>\n",
       "\t<tr><td> 1.7000</td><td> 1.2100</td><td> 1     </td></tr>\n",
       "\t<tr><td>-0.4820</td><td>-0.4850</td><td> 1     </td></tr>\n",
       "\t<tr><td> 1.7900</td><td>-0.4590</td><td>-1     </td></tr>\n",
       "\t<tr><td>-0.1220</td><td>-0.8080</td><td>-1     </td></tr>\n",
       "\t<tr><td> 0.0809</td><td> 1.9300</td><td> 1     </td></tr>\n",
       "\t<tr><td>-0.5410</td><td>-0.3320</td><td> 1     </td></tr>\n",
       "\t<tr><td>-1.0200</td><td> 0.6190</td><td>-1     </td></tr>\n",
       "\t<tr><td>-0.7680</td><td>-1.0400</td><td>-1     </td></tr>\n",
       "\t<tr><td>-1.6900</td><td>-0.0461</td><td> 1     </td></tr>\n",
       "\t<tr><td> 1.2600</td><td> 1.2100</td><td> 1     </td></tr>\n",
       "\t<tr><td> 0.7240</td><td> 0.9890</td><td>-1     </td></tr>\n",
       "\t<tr><td> 0.4440</td><td> 1.9900</td><td>-1     </td></tr>\n",
       "\t<tr><td>-1.0100</td><td>-1.3600</td><td>-1     </td></tr>\n",
       "\t<tr><td>-0.8630</td><td> 0.4960</td><td> 1     </td></tr>\n",
       "\t<tr><td> 1.1600</td><td>-0.4580</td><td> 1     </td></tr>\n",
       "\t<tr><td>-0.5950</td><td>-0.6510</td><td> 1     </td></tr>\n",
       "\t<tr><td>-0.7700</td><td> 0.3640</td><td> 1     </td></tr>\n",
       "\t<tr><td>-0.8710</td><td>-0.8250</td><td> 1     </td></tr>\n",
       "\t<tr><td> 0.9960</td><td>-1.7000</td><td> 1     </td></tr>\n",
       "\t<tr><td> 1.2800</td><td> 0.6910</td><td>-1     </td></tr>\n",
       "\t<tr><td> 0.9250</td><td> 0.8950</td><td>-1     </td></tr>\n",
       "\t<tr><td>-0.6870</td><td>-1.2900</td><td>-1     </td></tr>\n",
       "\t<tr><td>...</td><td>...</td><td>...</td></tr>\n",
       "\t<tr><td> 0.8010 </td><td>-0.63900</td><td> 1      </td></tr>\n",
       "\t<tr><td> 0.7620 </td><td> 0.12500</td><td> 1      </td></tr>\n",
       "\t<tr><td> 0.0343 </td><td>-1.18000</td><td>-1      </td></tr>\n",
       "\t<tr><td> 0.5240 </td><td>-0.23100</td><td> 1      </td></tr>\n",
       "\t<tr><td>-0.0262 </td><td>-1.18000</td><td>-1      </td></tr>\n",
       "\t<tr><td>-1.4700 </td><td>-0.03580</td><td> 1      </td></tr>\n",
       "\t<tr><td> 1.2900 </td><td> 0.15200</td><td>-1      </td></tr>\n",
       "\t<tr><td>-0.8510 </td><td> 0.18900</td><td> 1      </td></tr>\n",
       "\t<tr><td>-0.9610 </td><td> 1.00000</td><td>-1      </td></tr>\n",
       "\t<tr><td>-0.7760 </td><td> 0.12700</td><td> 1      </td></tr>\n",
       "\t<tr><td>-0.6740 </td><td>-0.62000</td><td> 1      </td></tr>\n",
       "\t<tr><td> 0.2440 </td><td>-0.69000</td><td> 1      </td></tr>\n",
       "\t<tr><td>-0.9740 </td><td> 0.51100</td><td> 1      </td></tr>\n",
       "\t<tr><td> 0.3700 </td><td> 1.03000</td><td>-1      </td></tr>\n",
       "\t<tr><td>-1.9800 </td><td>-0.88000</td><td> 1      </td></tr>\n",
       "\t<tr><td> 0.3080 </td><td> 0.11700</td><td> 1      </td></tr>\n",
       "\t<tr><td>-1.6200 </td><td> 0.46800</td><td>-1      </td></tr>\n",
       "\t<tr><td>-0.8430 </td><td>-1.08000</td><td>-1      </td></tr>\n",
       "\t<tr><td> 1.0000 </td><td> 1.17000</td><td>-1      </td></tr>\n",
       "\t<tr><td>-0.9540 </td><td> 0.68700</td><td> 1      </td></tr>\n",
       "\t<tr><td> 0.7680 </td><td>-0.96600</td><td> 1      </td></tr>\n",
       "\t<tr><td> 1.6400 </td><td> 1.12000</td><td> 1      </td></tr>\n",
       "\t<tr><td>-1.7000 </td><td>-0.55400</td><td> 1      </td></tr>\n",
       "\t<tr><td> 0.4040 </td><td> 0.00999</td><td> 1      </td></tr>\n",
       "\t<tr><td> 0.7040 </td><td>-0.90600</td><td> 1      </td></tr>\n",
       "\t<tr><td> 0.3350 </td><td> 1.39000</td><td> 1      </td></tr>\n",
       "\t<tr><td>-1.7000 </td><td>-0.56900</td><td> 1      </td></tr>\n",
       "\t<tr><td> 2.6400 </td><td> 1.14000</td><td> 1      </td></tr>\n",
       "\t<tr><td> 0.7690 </td><td> 0.77200</td><td>-1      </td></tr>\n",
       "\t<tr><td>-0.2550 </td><td>-0.14200</td><td> 1      </td></tr>\n",
       "</tbody>\n",
       "</table>\n"
      ],
      "text/latex": [
       "\\begin{tabular}{r|lll}\n",
       " At1 & At2 & Class\\\\\n",
       "\\hline\n",
       "\t  1.1400 & -0.1140 & -1     \\\\\n",
       "\t -1.5200 & -1.1500 &  1     \\\\\n",
       "\t -1.0500 &  0.7200 & -1     \\\\\n",
       "\t -0.9160 &  0.3970 &  1     \\\\\n",
       "\t -1.0900 &  0.4370 &  1     \\\\\n",
       "\t -0.5840 &  0.0937 &  1     \\\\\n",
       "\t  1.8300 &  0.4520 & -1     \\\\\n",
       "\t -1.2500 & -0.2860 &  1     \\\\\n",
       "\t  1.7000 &  1.2100 &  1     \\\\\n",
       "\t -0.4820 & -0.4850 &  1     \\\\\n",
       "\t  1.7900 & -0.4590 & -1     \\\\\n",
       "\t -0.1220 & -0.8080 & -1     \\\\\n",
       "\t  0.0809 &  1.9300 &  1     \\\\\n",
       "\t -0.5410 & -0.3320 &  1     \\\\\n",
       "\t -1.0200 &  0.6190 & -1     \\\\\n",
       "\t -0.7680 & -1.0400 & -1     \\\\\n",
       "\t -1.6900 & -0.0461 &  1     \\\\\n",
       "\t  1.2600 &  1.2100 &  1     \\\\\n",
       "\t  0.7240 &  0.9890 & -1     \\\\\n",
       "\t  0.4440 &  1.9900 & -1     \\\\\n",
       "\t -1.0100 & -1.3600 & -1     \\\\\n",
       "\t -0.8630 &  0.4960 &  1     \\\\\n",
       "\t  1.1600 & -0.4580 &  1     \\\\\n",
       "\t -0.5950 & -0.6510 &  1     \\\\\n",
       "\t -0.7700 &  0.3640 &  1     \\\\\n",
       "\t -0.8710 & -0.8250 &  1     \\\\\n",
       "\t  0.9960 & -1.7000 &  1     \\\\\n",
       "\t  1.2800 &  0.6910 & -1     \\\\\n",
       "\t  0.9250 &  0.8950 & -1     \\\\\n",
       "\t -0.6870 & -1.2900 & -1     \\\\\n",
       "\t ... & ... & ...\\\\\n",
       "\t  0.8010  & -0.63900 &  1      \\\\\n",
       "\t  0.7620  &  0.12500 &  1      \\\\\n",
       "\t  0.0343  & -1.18000 & -1      \\\\\n",
       "\t  0.5240  & -0.23100 &  1      \\\\\n",
       "\t -0.0262  & -1.18000 & -1      \\\\\n",
       "\t -1.4700  & -0.03580 &  1      \\\\\n",
       "\t  1.2900  &  0.15200 & -1      \\\\\n",
       "\t -0.8510  &  0.18900 &  1      \\\\\n",
       "\t -0.9610  &  1.00000 & -1      \\\\\n",
       "\t -0.7760  &  0.12700 &  1      \\\\\n",
       "\t -0.6740  & -0.62000 &  1      \\\\\n",
       "\t  0.2440  & -0.69000 &  1      \\\\\n",
       "\t -0.9740  &  0.51100 &  1      \\\\\n",
       "\t  0.3700  &  1.03000 & -1      \\\\\n",
       "\t -1.9800  & -0.88000 &  1      \\\\\n",
       "\t  0.3080  &  0.11700 &  1      \\\\\n",
       "\t -1.6200  &  0.46800 & -1      \\\\\n",
       "\t -0.8430  & -1.08000 & -1      \\\\\n",
       "\t  1.0000  &  1.17000 & -1      \\\\\n",
       "\t -0.9540  &  0.68700 &  1      \\\\\n",
       "\t  0.7680  & -0.96600 &  1      \\\\\n",
       "\t  1.6400  &  1.12000 &  1      \\\\\n",
       "\t -1.7000  & -0.55400 &  1      \\\\\n",
       "\t  0.4040  &  0.00999 &  1      \\\\\n",
       "\t  0.7040  & -0.90600 &  1      \\\\\n",
       "\t  0.3350  &  1.39000 &  1      \\\\\n",
       "\t -1.7000  & -0.56900 &  1      \\\\\n",
       "\t  2.6400  &  1.14000 &  1      \\\\\n",
       "\t  0.7690  &  0.77200 & -1      \\\\\n",
       "\t -0.2550  & -0.14200 &  1      \\\\\n",
       "\\end{tabular}\n"
      ],
      "text/markdown": [
       "\n",
       "| At1 | At2 | Class |\n",
       "|---|---|---|\n",
       "|  1.1400 | -0.1140 | -1      |\n",
       "| -1.5200 | -1.1500 |  1      |\n",
       "| -1.0500 |  0.7200 | -1      |\n",
       "| -0.9160 |  0.3970 |  1      |\n",
       "| -1.0900 |  0.4370 |  1      |\n",
       "| -0.5840 |  0.0937 |  1      |\n",
       "|  1.8300 |  0.4520 | -1      |\n",
       "| -1.2500 | -0.2860 |  1      |\n",
       "|  1.7000 |  1.2100 |  1      |\n",
       "| -0.4820 | -0.4850 |  1      |\n",
       "|  1.7900 | -0.4590 | -1      |\n",
       "| -0.1220 | -0.8080 | -1      |\n",
       "|  0.0809 |  1.9300 |  1      |\n",
       "| -0.5410 | -0.3320 |  1      |\n",
       "| -1.0200 |  0.6190 | -1      |\n",
       "| -0.7680 | -1.0400 | -1      |\n",
       "| -1.6900 | -0.0461 |  1      |\n",
       "|  1.2600 |  1.2100 |  1      |\n",
       "|  0.7240 |  0.9890 | -1      |\n",
       "|  0.4440 |  1.9900 | -1      |\n",
       "| -1.0100 | -1.3600 | -1      |\n",
       "| -0.8630 |  0.4960 |  1      |\n",
       "|  1.1600 | -0.4580 |  1      |\n",
       "| -0.5950 | -0.6510 |  1      |\n",
       "| -0.7700 |  0.3640 |  1      |\n",
       "| -0.8710 | -0.8250 |  1      |\n",
       "|  0.9960 | -1.7000 |  1      |\n",
       "|  1.2800 |  0.6910 | -1      |\n",
       "|  0.9250 |  0.8950 | -1      |\n",
       "| -0.6870 | -1.2900 | -1      |\n",
       "| ... | ... | ... |\n",
       "|  0.8010  | -0.63900 |  1       |\n",
       "|  0.7620  |  0.12500 |  1       |\n",
       "|  0.0343  | -1.18000 | -1       |\n",
       "|  0.5240  | -0.23100 |  1       |\n",
       "| -0.0262  | -1.18000 | -1       |\n",
       "| -1.4700  | -0.03580 |  1       |\n",
       "|  1.2900  |  0.15200 | -1       |\n",
       "| -0.8510  |  0.18900 |  1       |\n",
       "| -0.9610  |  1.00000 | -1       |\n",
       "| -0.7760  |  0.12700 |  1       |\n",
       "| -0.6740  | -0.62000 |  1       |\n",
       "|  0.2440  | -0.69000 |  1       |\n",
       "| -0.9740  |  0.51100 |  1       |\n",
       "|  0.3700  |  1.03000 | -1       |\n",
       "| -1.9800  | -0.88000 |  1       |\n",
       "|  0.3080  |  0.11700 |  1       |\n",
       "| -1.6200  |  0.46800 | -1       |\n",
       "| -0.8430  | -1.08000 | -1       |\n",
       "|  1.0000  |  1.17000 | -1       |\n",
       "| -0.9540  |  0.68700 |  1       |\n",
       "|  0.7680  | -0.96600 |  1       |\n",
       "|  1.6400  |  1.12000 |  1       |\n",
       "| -1.7000  | -0.55400 |  1       |\n",
       "|  0.4040  |  0.00999 |  1       |\n",
       "|  0.7040  | -0.90600 |  1       |\n",
       "|  0.3350  |  1.39000 |  1       |\n",
       "| -1.7000  | -0.56900 |  1       |\n",
       "|  2.6400  |  1.14000 |  1       |\n",
       "|  0.7690  |  0.77200 | -1       |\n",
       "| -0.2550  | -0.14200 |  1       |\n",
       "\n"
      ],
      "text/plain": [
       "     At1     At2      Class\n",
       "1     1.1400 -0.1140  -1   \n",
       "2    -1.5200 -1.1500   1   \n",
       "3    -1.0500  0.7200  -1   \n",
       "4    -0.9160  0.3970   1   \n",
       "5    -1.0900  0.4370   1   \n",
       "6    -0.5840  0.0937   1   \n",
       "7     1.8300  0.4520  -1   \n",
       "8    -1.2500 -0.2860   1   \n",
       "9     1.7000  1.2100   1   \n",
       "10   -0.4820 -0.4850   1   \n",
       "11    1.7900 -0.4590  -1   \n",
       "12   -0.1220 -0.8080  -1   \n",
       "13    0.0809  1.9300   1   \n",
       "14   -0.5410 -0.3320   1   \n",
       "15   -1.0200  0.6190  -1   \n",
       "16   -0.7680 -1.0400  -1   \n",
       "17   -1.6900 -0.0461   1   \n",
       "18    1.2600  1.2100   1   \n",
       "19    0.7240  0.9890  -1   \n",
       "20    0.4440  1.9900  -1   \n",
       "21   -1.0100 -1.3600  -1   \n",
       "22   -0.8630  0.4960   1   \n",
       "23    1.1600 -0.4580   1   \n",
       "24   -0.5950 -0.6510   1   \n",
       "25   -0.7700  0.3640   1   \n",
       "26   -0.8710 -0.8250   1   \n",
       "27    0.9960 -1.7000   1   \n",
       "28    1.2800  0.6910  -1   \n",
       "29    0.9250  0.8950  -1   \n",
       "30   -0.6870 -1.2900  -1   \n",
       "...  ...     ...      ...  \n",
       "5271  0.8010 -0.63900  1   \n",
       "5272  0.7620  0.12500  1   \n",
       "5273  0.0343 -1.18000 -1   \n",
       "5274  0.5240 -0.23100  1   \n",
       "5275 -0.0262 -1.18000 -1   \n",
       "5276 -1.4700 -0.03580  1   \n",
       "5277  1.2900  0.15200 -1   \n",
       "5278 -0.8510  0.18900  1   \n",
       "5279 -0.9610  1.00000 -1   \n",
       "5280 -0.7760  0.12700  1   \n",
       "5281 -0.6740 -0.62000  1   \n",
       "5282  0.2440 -0.69000  1   \n",
       "5283 -0.9740  0.51100  1   \n",
       "5284  0.3700  1.03000 -1   \n",
       "5285 -1.9800 -0.88000  1   \n",
       "5286  0.3080  0.11700  1   \n",
       "5287 -1.6200  0.46800 -1   \n",
       "5288 -0.8430 -1.08000 -1   \n",
       "5289  1.0000  1.17000 -1   \n",
       "5290 -0.9540  0.68700  1   \n",
       "5291  0.7680 -0.96600  1   \n",
       "5292  1.6400  1.12000  1   \n",
       "5293 -1.7000 -0.55400  1   \n",
       "5294  0.4040  0.00999  1   \n",
       "5295  0.7040 -0.90600  1   \n",
       "5296  0.3350  1.39000  1   \n",
       "5297 -1.7000 -0.56900  1   \n",
       "5298  2.6400  1.14000  1   \n",
       "5299  0.7690  0.77200 -1   \n",
       "5300 -0.2550 -0.14200  1   "
      ]
     },
     "metadata": {},
     "output_type": "display_data"
    }
   ],
   "source": [
    "#reading csv, excel and built in datasets\n",
    "my_data=read.csv(\"banana_dataset.csv\")\n",
    "my_data"
   ]
  },
  {
   "cell_type": "code",
   "execution_count": 53,
   "id": "9af370f3",
   "metadata": {},
   "outputs": [
    {
     "data": {
      "text/html": [
       "<table>\n",
       "<thead><tr><th scope=col>At1</th><th scope=col>At2</th><th scope=col>Class</th></tr></thead>\n",
       "<tbody>\n",
       "\t<tr><td>1.14  </td><td>-0.114</td><td>-1    </td></tr>\n",
       "</tbody>\n",
       "</table>\n"
      ],
      "text/latex": [
       "\\begin{tabular}{r|lll}\n",
       " At1 & At2 & Class\\\\\n",
       "\\hline\n",
       "\t 1.14   & -0.114 & -1    \\\\\n",
       "\\end{tabular}\n"
      ],
      "text/markdown": [
       "\n",
       "| At1 | At2 | Class |\n",
       "|---|---|---|\n",
       "| 1.14   | -0.114 | -1     |\n",
       "\n"
      ],
      "text/plain": [
       "  At1  At2    Class\n",
       "1 1.14 -0.114 -1   "
      ]
     },
     "metadata": {},
     "output_type": "display_data"
    },
    {
     "data": {
      "text/html": [
       "-1"
      ],
      "text/latex": [
       "-1"
      ],
      "text/markdown": [
       "-1"
      ],
      "text/plain": [
       "[1] -1"
      ]
     },
     "metadata": {},
     "output_type": "display_data"
    }
   ],
   "source": [
    "my_data[1,]#accessing data from dataframe \n",
    "my_data[1,c(\"Class\")]"
   ]
  },
  {
   "cell_type": "code",
   "execution_count": 54,
   "id": "8ab2e2da",
   "metadata": {},
   "outputs": [],
   "source": [
    "#to show built in datasets\n",
    "data()"
   ]
  },
  {
   "cell_type": "code",
   "execution_count": 1,
   "id": "ed339f8c",
   "metadata": {},
   "outputs": [],
   "source": [
    "#######################################visualisation with R################################################################ "
   ]
  },
  {
   "cell_type": "code",
   "execution_count": 1,
   "id": "21e27006",
   "metadata": {},
   "outputs": [
    {
     "name": "stderr",
     "output_type": "stream",
     "text": [
      "Warning message:\n",
      "\"dependency 'MASS' is not available\"also installing the dependencies 'processx', 'xfun', 'bslib', 'fontawesome', 'htmltools', 'tinytex', 'lifecycle', 'tidyselect', 'vctrs', 'gtable', 'scales', 'gargle', 'timechange', 'systemfonts', 'vroom', 'callr', 'knitr', 'rmarkdown', 'glue', 'broom', 'conflicted', 'cli', 'dbplyr', 'dplyr', 'dtplyr', 'forcats', 'ggplot2', 'googledrive', 'googlesheets4', 'haven', 'hms', 'jsonlite', 'lubridate', 'magrittr', 'modelr', 'pillar', 'purrr', 'ragg', 'readr', 'readxl', 'reprex', 'rlang', 'rvest', 'stringr', 'tibble', 'tidyr', 'xml2'\n",
      "\n"
     ]
    },
    {
     "name": "stdout",
     "output_type": "stream",
     "text": [
      "\n",
      "  There are binary versions available but the source versions are later:\n",
      "               binary source needs_compilation\n",
      "processx        3.5.2  3.8.2              TRUE\n",
      "xfun             0.22   0.40              TRUE\n",
      "bslib           0.2.4  0.5.1             FALSE\n",
      "fontawesome     0.2.1  0.5.2             FALSE\n",
      "htmltools     0.5.1.1  0.5.6              TRUE\n",
      "tinytex          0.31   0.46             FALSE\n",
      "lifecycle       1.0.0  1.0.3             FALSE\n",
      "tidyselect      1.1.1  1.2.0             FALSE\n",
      "vctrs           0.3.8  0.6.3              TRUE\n",
      "gtable          0.3.0  0.3.4             FALSE\n",
      "scales          1.1.1  1.2.1             FALSE\n",
      "gargle          1.1.0  1.5.2             FALSE\n",
      "timechange      0.0.2  0.2.0              TRUE\n",
      "systemfonts     1.0.2  1.0.4              TRUE\n",
      "vroom           1.4.0  1.6.3              TRUE\n",
      "callr           3.7.0  3.7.3             FALSE\n",
      "knitr            1.33   1.44             FALSE\n",
      "rmarkdown         2.8   2.24             FALSE\n",
      "glue            1.4.2  1.6.2              TRUE\n",
      "broom           0.7.6  1.0.5             FALSE\n",
      "conflicted      1.0.4  1.2.0             FALSE\n",
      "cli             2.5.0  3.6.1              TRUE\n",
      "dbplyr          2.1.1  2.3.3             FALSE\n",
      "dplyr           1.0.6  1.1.3              TRUE\n",
      "dtplyr          1.1.0  1.3.1             FALSE\n",
      "forcats         0.5.1  1.0.0             FALSE\n",
      "ggplot2         3.3.3  3.4.3             FALSE\n",
      "googledrive     1.0.1  2.1.1             FALSE\n",
      "googlesheets4   0.3.0  1.1.1             FALSE\n",
      "haven           2.4.1  2.5.3              TRUE\n",
      "hms             1.0.0  1.1.3             FALSE\n",
      "jsonlite        1.7.2  1.8.7              TRUE\n",
      "lubridate      1.7.10  1.9.2              TRUE\n",
      "magrittr        2.0.1  2.0.3              TRUE\n",
      "modelr          0.1.8 0.1.11             FALSE\n",
      "pillar          1.6.0  1.9.0             FALSE\n",
      "purrr           0.3.4  1.0.2              TRUE\n",
      "ragg            1.1.2  1.2.5              TRUE\n",
      "readr           1.4.0  2.1.4              TRUE\n",
      "readxl          1.3.1  1.4.3              TRUE\n",
      "reprex          2.0.0  2.0.2             FALSE\n",
      "rlang          0.4.11  1.1.1              TRUE\n",
      "rvest           1.0.0  1.0.3             FALSE\n",
      "stringr         1.4.0  1.5.0             FALSE\n",
      "tibble          3.1.1  3.2.1              TRUE\n",
      "tidyr           1.1.3  1.3.0              TRUE\n",
      "xml2            1.3.2  1.3.5              TRUE\n",
      "tidyverse       1.3.1  2.0.0             FALSE\n",
      "\n",
      "  Binaries will be installed\n",
      "package 'processx' successfully unpacked and MD5 sums checked\n",
      "package 'xfun' successfully unpacked and MD5 sums checked\n",
      "package 'htmltools' successfully unpacked and MD5 sums checked\n"
     ]
    },
    {
     "name": "stderr",
     "output_type": "stream",
     "text": [
      "Warning message:\n",
      "\"cannot remove prior installation of package 'htmltools'\"Warning message in file.copy(savedcopy, lib, recursive = TRUE):\n",
      "\"problem copying D:\\anaconda\\Lib\\R\\library\\00LOCK\\htmltools\\libs\\x64\\htmltools.dll to D:\\anaconda\\Lib\\R\\library\\htmltools\\libs\\x64\\htmltools.dll: Permission denied\"Warning message:\n",
      "\"restored 'htmltools'\""
     ]
    },
    {
     "name": "stdout",
     "output_type": "stream",
     "text": [
      "package 'vctrs' successfully unpacked and MD5 sums checked\n",
      "package 'timechange' successfully unpacked and MD5 sums checked\n",
      "package 'systemfonts' successfully unpacked and MD5 sums checked\n",
      "package 'vroom' successfully unpacked and MD5 sums checked\n",
      "package 'glue' successfully unpacked and MD5 sums checked\n",
      "package 'cli' successfully unpacked and MD5 sums checked\n",
      "package 'dplyr' successfully unpacked and MD5 sums checked\n",
      "package 'haven' successfully unpacked and MD5 sums checked\n",
      "package 'jsonlite' successfully unpacked and MD5 sums checked\n"
     ]
    },
    {
     "name": "stderr",
     "output_type": "stream",
     "text": [
      "Warning message:\n",
      "\"cannot remove prior installation of package 'jsonlite'\"Warning message in file.copy(savedcopy, lib, recursive = TRUE):\n",
      "\"problem copying D:\\anaconda\\Lib\\R\\library\\00LOCK\\jsonlite\\libs\\x64\\jsonlite.dll to D:\\anaconda\\Lib\\R\\library\\jsonlite\\libs\\x64\\jsonlite.dll: Permission denied\"Warning message:\n",
      "\"restored 'jsonlite'\""
     ]
    },
    {
     "name": "stdout",
     "output_type": "stream",
     "text": [
      "package 'lubridate' successfully unpacked and MD5 sums checked\n",
      "package 'magrittr' successfully unpacked and MD5 sums checked\n",
      "package 'purrr' successfully unpacked and MD5 sums checked\n",
      "package 'ragg' successfully unpacked and MD5 sums checked\n",
      "package 'readr' successfully unpacked and MD5 sums checked\n",
      "package 'readxl' successfully unpacked and MD5 sums checked\n",
      "package 'rlang' successfully unpacked and MD5 sums checked\n",
      "package 'tibble' successfully unpacked and MD5 sums checked\n",
      "package 'tidyr' successfully unpacked and MD5 sums checked\n",
      "package 'xml2' successfully unpacked and MD5 sums checked\n",
      "\n",
      "The downloaded binary packages are in\n",
      "\tC:\\Users\\dell\\AppData\\Local\\Temp\\RtmpYzkJ0p\\downloaded_packages\n"
     ]
    },
    {
     "name": "stderr",
     "output_type": "stream",
     "text": [
      "installing the source packages 'bslib', 'fontawesome', 'tinytex', 'lifecycle', 'tidyselect', 'gtable', 'scales', 'gargle', 'callr', 'knitr', 'rmarkdown', 'broom', 'conflicted', 'dbplyr', 'dtplyr', 'forcats', 'ggplot2', 'googledrive', 'googlesheets4', 'hms', 'modelr', 'pillar', 'reprex', 'rvest', 'stringr', 'tidyverse'\n",
      "\n",
      "Warning message in install.packages(\"tidyverse\"):\n",
      "\"installation of package 'bslib' had non-zero exit status\"Warning message in install.packages(\"tidyverse\"):\n",
      "\"installation of package 'fontawesome' had non-zero exit status\"Warning message in install.packages(\"tidyverse\"):\n",
      "\"installation of package 'tinytex' had non-zero exit status\"Warning message in install.packages(\"tidyverse\"):\n",
      "\"installation of package 'lifecycle' had non-zero exit status\"Warning message in install.packages(\"tidyverse\"):\n",
      "\"installation of package 'callr' had non-zero exit status\"Warning message in install.packages(\"tidyverse\"):\n",
      "\"installation of package 'knitr' had non-zero exit status\"Warning message in install.packages(\"tidyverse\"):\n",
      "\"installation of package 'conflicted' had non-zero exit status\"Warning message in install.packages(\"tidyverse\"):\n",
      "\"installation of package 'tidyselect' had non-zero exit status\"Warning message in install.packages(\"tidyverse\"):\n",
      "\"installation of package 'gtable' had non-zero exit status\"Warning message in install.packages(\"tidyverse\"):\n",
      "\"installation of package 'scales' had non-zero exit status\"Warning message in install.packages(\"tidyverse\"):\n",
      "\"installation of package 'gargle' had non-zero exit status\"Warning message in install.packages(\"tidyverse\"):\n",
      "\"installation of package 'forcats' had non-zero exit status\"Warning message in install.packages(\"tidyverse\"):\n",
      "\"installation of package 'hms' had non-zero exit status\"Warning message in install.packages(\"tidyverse\"):\n",
      "\"installation of package 'pillar' had non-zero exit status\"Warning message in install.packages(\"tidyverse\"):\n",
      "\"installation of package 'rvest' had non-zero exit status\"Warning message in install.packages(\"tidyverse\"):\n",
      "\"installation of package 'stringr' had non-zero exit status\"Warning message in install.packages(\"tidyverse\"):\n",
      "\"installation of package 'rmarkdown' had non-zero exit status\"Warning message in install.packages(\"tidyverse\"):\n",
      "\"installation of package 'broom' had non-zero exit status\"Warning message in install.packages(\"tidyverse\"):\n",
      "\"installation of package 'dbplyr' had non-zero exit status\"Warning message in install.packages(\"tidyverse\"):\n",
      "\"installation of package 'dtplyr' had non-zero exit status\"Warning message in install.packages(\"tidyverse\"):\n",
      "\"installation of package 'ggplot2' had non-zero exit status\"Warning message in install.packages(\"tidyverse\"):\n",
      "\"installation of package 'googledrive' had non-zero exit status\"Warning message in install.packages(\"tidyverse\"):\n",
      "\"installation of package 'googlesheets4' had non-zero exit status\"Warning message in install.packages(\"tidyverse\"):\n",
      "\"installation of package 'modelr' had non-zero exit status\"Warning message in install.packages(\"tidyverse\"):\n",
      "\"installation of package 'reprex' had non-zero exit status\"Warning message in install.packages(\"tidyverse\"):\n",
      "\"installation of package 'tidyverse' had non-zero exit status\""
     ]
    }
   ],
   "source": [
    "#basic visualistion tools\n",
    "#Bar Plot\n",
    "install.packages(\"tidyverse\")\n"
   ]
  },
  {
   "cell_type": "code",
   "execution_count": 2,
   "id": "6ff2a9be",
   "metadata": {},
   "outputs": [
    {
     "name": "stderr",
     "output_type": "stream",
     "text": [
      "Warning message:\n",
      "\"dependency 'MASS' is not available\"also installing the dependencies 'cli', 'gtable', 'lifecycle', 'rlang', 'scales', 'vctrs'\n",
      "\n"
     ]
    },
    {
     "name": "stdout",
     "output_type": "stream",
     "text": [
      "\n",
      "  There are binary versions available but the source versions are later:\n",
      "          binary source needs_compilation\n",
      "cli        2.5.0  3.6.1              TRUE\n",
      "gtable     0.3.0  0.3.4             FALSE\n",
      "lifecycle  1.0.0  1.0.3             FALSE\n",
      "rlang     0.4.11  1.1.1              TRUE\n",
      "scales     1.1.1  1.2.1             FALSE\n",
      "vctrs      0.3.8  0.6.3              TRUE\n",
      "ggplot2    3.3.3  3.4.3             FALSE\n",
      "\n",
      "  Binaries will be installed\n",
      "package 'cli' successfully unpacked and MD5 sums checked\n",
      "package 'rlang' successfully unpacked and MD5 sums checked\n",
      "package 'vctrs' successfully unpacked and MD5 sums checked\n",
      "\n",
      "The downloaded binary packages are in\n",
      "\tC:\\Users\\dell\\AppData\\Local\\Temp\\RtmpYzkJ0p\\downloaded_packages\n"
     ]
    },
    {
     "name": "stderr",
     "output_type": "stream",
     "text": [
      "installing the source packages 'gtable', 'lifecycle', 'scales', 'ggplot2'\n",
      "\n",
      "Warning message in install.packages(\"ggplot2\"):\n",
      "\"installation of package 'lifecycle' had non-zero exit status\"Warning message in install.packages(\"ggplot2\"):\n",
      "\"installation of package 'gtable' had non-zero exit status\"Warning message in install.packages(\"ggplot2\"):\n",
      "\"installation of package 'scales' had non-zero exit status\"Warning message in install.packages(\"ggplot2\"):\n",
      "\"installation of package 'ggplot2' had non-zero exit status\""
     ]
    }
   ],
   "source": [
    "install.packages(\"ggplot2\")"
   ]
  },
  {
   "cell_type": "code",
   "execution_count": 5,
   "id": "eb5ec74e",
   "metadata": {},
   "outputs": [
    {
     "ename": "ERROR",
     "evalue": "Error in library(ggplot2): there is no package called 'ggplot2'\n",
     "output_type": "error",
     "traceback": [
      "Error in library(ggplot2): there is no package called 'ggplot2'\nTraceback:\n",
      "1. library(ggplot2)"
     ]
    }
   ],
   "source": [
    "library(ggplot2)\n",
    "qplot(mtcars$cyl,geom=\"bar\")"
   ]
  },
  {
   "cell_type": "code",
   "execution_count": 14,
   "id": "ecb57b3f",
   "metadata": {},
   "outputs": [
    {
     "name": "stderr",
     "output_type": "stream",
     "text": [
      "Warning message:\n",
      "\"package 'Mass' is not available (for R version 3.6.1)\""
     ]
    }
   ],
   "source": [
    "pip install.packages(\"ggplot2\")"
   ]
  },
  {
   "cell_type": "code",
   "execution_count": 17,
   "id": "06ba0a38",
   "metadata": {},
   "outputs": [
    {
     "data": {
      "text/html": [
       "'D:/anaconda/Lib/R/library'"
      ],
      "text/latex": [
       "'D:/anaconda/Lib/R/library'"
      ],
      "text/markdown": [
       "'D:/anaconda/Lib/R/library'"
      ],
      "text/plain": [
       "[1] \"D:/anaconda/Lib/R/library\""
      ]
     },
     "metadata": {},
     "output_type": "display_data"
    }
   ],
   "source": [
    ".libPaths()"
   ]
  },
  {
   "cell_type": "code",
   "execution_count": 12,
   "id": "a528e0bb",
   "metadata": {},
   "outputs": [
    {
     "name": "stderr",
     "output_type": "stream",
     "text": [
      "Warning message:\n",
      "\"dependency 'MASS' is not available\"also installing the dependencies 'cli', 'gtable', 'lifecycle', 'rlang', 'scales', 'vctrs'\n",
      "\n"
     ]
    },
    {
     "name": "stdout",
     "output_type": "stream",
     "text": [
      "\n",
      "  There are binary versions available but the source versions are later:\n",
      "          binary source needs_compilation\n",
      "cli        2.5.0  3.6.1              TRUE\n",
      "gtable     0.3.0  0.3.4             FALSE\n",
      "lifecycle  1.0.0  1.0.3             FALSE\n",
      "rlang     0.4.11  1.1.1              TRUE\n",
      "scales     1.1.1  1.2.1             FALSE\n",
      "vctrs      0.3.8  0.6.3              TRUE\n",
      "ggplot2    3.3.3  3.4.3             FALSE\n",
      "\n",
      "  Binaries will be installed\n",
      "package 'cli' successfully unpacked and MD5 sums checked\n",
      "package 'rlang' successfully unpacked and MD5 sums checked\n",
      "package 'vctrs' successfully unpacked and MD5 sums checked\n",
      "\n",
      "The downloaded binary packages are in\n",
      "\tC:\\Users\\dell\\AppData\\Local\\Temp\\RtmpYzkJ0p\\downloaded_packages\n"
     ]
    },
    {
     "name": "stderr",
     "output_type": "stream",
     "text": [
      "installing the source packages 'gtable', 'lifecycle', 'scales', 'ggplot2'\n",
      "\n",
      "Warning message in install.packages(\"ggplot2\", lib = lib_path):\n",
      "\"installation of package 'lifecycle' had non-zero exit status\"Warning message in install.packages(\"ggplot2\", lib = lib_path):\n",
      "\"installation of package 'gtable' had non-zero exit status\"Warning message in install.packages(\"ggplot2\", lib = lib_path):\n",
      "\"installation of package 'scales' had non-zero exit status\"Warning message in install.packages(\"ggplot2\", lib = lib_path):\n",
      "\"installation of package 'ggplot2' had non-zero exit status\""
     ]
    }
   ],
   "source": [
    "lib_path<-\"D:/anaconda/Lib/R/library\"\n",
    "install.packages(\"ggplot2\",lib=lib_path)"
   ]
  },
  {
   "cell_type": "code",
   "execution_count": 16,
   "id": "2c956c49",
   "metadata": {},
   "outputs": [
    {
     "ename": "ERROR",
     "evalue": "Error in library(ggplot2): there is no package called 'ggplot2'\n",
     "output_type": "error",
     "traceback": [
      "Error in library(ggplot2): there is no package called 'ggplot2'\nTraceback:\n",
      "1. library(ggplot2)"
     ]
    }
   ],
   "source": [
    "library(ggplot2)"
   ]
  },
  {
   "cell_type": "code",
   "execution_count": 18,
   "id": "4c55f415",
   "metadata": {},
   "outputs": [
    {
     "name": "stderr",
     "output_type": "stream",
     "text": [
      "Warning message:\n",
      "\"dependencies 'lattice', 'MASS' are not available\"also installing the dependencies 'glue', 'xfun', 'bslib', 'fontawesome', 'stringr', 'tinytex', 'Rcpp', 'cli', 'gtable', 'vctrs', 'lazyeval', 'htmltools', 'knitr', 'rmarkdown', 'terra', 'lifecycle', 'rlang', 'ggplot2', 'gridExtra', 'crosstalk', 'htmlwidgets', 'leaflet.providers', 'png', 'raster', 'scales', 'sp', 'viridis'\n",
      "\n"
     ]
    },
    {
     "name": "stdout",
     "output_type": "stream",
     "text": [
      "\n",
      "  There are binary versions available but the source versions are later:\n",
      "                   binary source needs_compilation\n",
      "glue                1.4.2  1.6.2              TRUE\n",
      "xfun                 0.22   0.40              TRUE\n",
      "bslib               0.2.4  0.5.1             FALSE\n",
      "fontawesome         0.2.1  0.5.2             FALSE\n",
      "stringr             1.4.0  1.5.0             FALSE\n",
      "tinytex              0.31   0.46             FALSE\n",
      "Rcpp                1.0.6 1.0.11              TRUE\n",
      "cli                 2.5.0  3.6.1              TRUE\n",
      "gtable              0.3.0  0.3.4             FALSE\n",
      "vctrs               0.3.8  0.6.3              TRUE\n",
      "htmltools         0.5.1.1  0.5.6              TRUE\n",
      "knitr                1.33   1.44             FALSE\n",
      "rmarkdown             2.8   2.24             FALSE\n",
      "terra               1.2-5 1.7-46              TRUE\n",
      "lifecycle           1.0.0  1.0.3             FALSE\n",
      "rlang              0.4.11  1.1.1              TRUE\n",
      "ggplot2             3.3.3  3.4.3             FALSE\n",
      "crosstalk           1.1.1  1.2.0             FALSE\n",
      "htmlwidgets         1.5.3  1.6.2             FALSE\n",
      "leaflet.providers   1.9.0 1.13.0             FALSE\n",
      "png                 0.1-7  0.1-8              TRUE\n",
      "raster             3.4-10 3.6-23              TRUE\n",
      "scales              1.1.1  1.2.1             FALSE\n",
      "sp                  1.4-5  2.0-0              TRUE\n",
      "viridis             0.6.1  0.6.4             FALSE\n",
      "leaflet           2.0.4.1  2.2.0             FALSE\n",
      "\n",
      "  Binaries will be installed\n"
     ]
    },
    {
     "name": "stderr",
     "output_type": "stream",
     "text": [
      "Warning message in download.file(url, destfile, method, mode = \"wb\", ...):\n",
      "\"InternetOpenUrl failed: 'A connection with the server could not be established'\""
     ]
    },
    {
     "name": "stdout",
     "output_type": "stream",
     "text": [
      "Error in download.file(url, destfile, method, mode = \"wb\", ...) : \n",
      "  cannot open URL 'https://cran.r-project.org/bin/windows/contrib/3.6/glue_1.4.2.zip'\n"
     ]
    },
    {
     "name": "stderr",
     "output_type": "stream",
     "text": [
      "Warning message in download.packages(pkgs, destdir = tmpd, available = available, :\n",
      "\"download of package 'glue' failed\"Warning message in download.file(url, destfile, method, mode = \"wb\", ...):\n",
      "\"InternetOpenUrl failed: 'A connection with the server could not be established'\""
     ]
    },
    {
     "name": "stdout",
     "output_type": "stream",
     "text": [
      "Error in download.file(url, destfile, method, mode = \"wb\", ...) : \n",
      "  cannot open URL 'https://cran.r-project.org/bin/windows/contrib/3.6/xfun_0.22.zip'\n"
     ]
    },
    {
     "name": "stderr",
     "output_type": "stream",
     "text": [
      "Warning message in download.packages(pkgs, destdir = tmpd, available = available, :\n",
      "\"download of package 'xfun' failed\"Warning message in download.file(url, destfile, method, mode = \"wb\", ...):\n",
      "\"InternetOpenUrl failed: 'A connection with the server could not be established'\""
     ]
    },
    {
     "name": "stdout",
     "output_type": "stream",
     "text": [
      "Error in download.file(url, destfile, method, mode = \"wb\", ...) : \n",
      "  cannot open URL 'https://cran.r-project.org/bin/windows/contrib/3.6/Rcpp_1.0.6.zip'\n"
     ]
    },
    {
     "name": "stderr",
     "output_type": "stream",
     "text": [
      "Warning message in download.packages(pkgs, destdir = tmpd, available = available, :\n",
      "\"download of package 'Rcpp' failed\"Warning message in download.file(url, destfile, method, mode = \"wb\", ...):\n",
      "\"InternetOpenUrl failed: 'A connection with the server could not be established'\""
     ]
    },
    {
     "name": "stdout",
     "output_type": "stream",
     "text": [
      "Error in download.file(url, destfile, method, mode = \"wb\", ...) : \n",
      "  cannot open URL 'https://cran.r-project.org/bin/windows/contrib/3.6/cli_2.5.0.zip'\n"
     ]
    },
    {
     "name": "stderr",
     "output_type": "stream",
     "text": [
      "Warning message in download.packages(pkgs, destdir = tmpd, available = available, :\n",
      "\"download of package 'cli' failed\"Warning message in download.file(url, destfile, method, mode = \"wb\", ...):\n",
      "\"InternetOpenUrl failed: 'A connection with the server could not be established'\""
     ]
    },
    {
     "name": "stdout",
     "output_type": "stream",
     "text": [
      "Error in download.file(url, destfile, method, mode = \"wb\", ...) : \n",
      "  cannot open URL 'https://cran.r-project.org/bin/windows/contrib/3.6/vctrs_0.3.8.zip'\n"
     ]
    },
    {
     "name": "stderr",
     "output_type": "stream",
     "text": [
      "Warning message in download.packages(pkgs, destdir = tmpd, available = available, :\n",
      "\"download of package 'vctrs' failed\"Warning message in download.file(url, destfile, method, mode = \"wb\", ...):\n",
      "\"InternetOpenUrl failed: 'A connection with the server could not be established'\""
     ]
    },
    {
     "name": "stdout",
     "output_type": "stream",
     "text": [
      "Error in download.file(url, destfile, method, mode = \"wb\", ...) : \n",
      "  cannot open URL 'https://cran.r-project.org/bin/windows/contrib/3.6/lazyeval_0.2.2.zip'\n"
     ]
    },
    {
     "name": "stderr",
     "output_type": "stream",
     "text": [
      "Warning message in download.packages(pkgs, destdir = tmpd, available = available, :\n",
      "\"download of package 'lazyeval' failed\"Warning message in download.file(url, destfile, method, mode = \"wb\", ...):\n",
      "\"InternetOpenUrl failed: 'A connection with the server could not be established'\""
     ]
    },
    {
     "name": "stdout",
     "output_type": "stream",
     "text": [
      "Error in download.file(url, destfile, method, mode = \"wb\", ...) : \n",
      "  cannot open URL 'https://cran.r-project.org/bin/windows/contrib/3.6/htmltools_0.5.1.1.zip'\n"
     ]
    },
    {
     "name": "stderr",
     "output_type": "stream",
     "text": [
      "Warning message in download.packages(pkgs, destdir = tmpd, available = available, :\n",
      "\"download of package 'htmltools' failed\"Warning message in download.file(url, destfile, method, mode = \"wb\", ...):\n",
      "\"InternetOpenUrl failed: 'A connection with the server could not be established'\""
     ]
    },
    {
     "name": "stdout",
     "output_type": "stream",
     "text": [
      "Error in download.file(url, destfile, method, mode = \"wb\", ...) : \n",
      "  cannot open URL 'https://cran.r-project.org/bin/windows/contrib/3.6/terra_1.2-5.zip'\n"
     ]
    },
    {
     "name": "stderr",
     "output_type": "stream",
     "text": [
      "Warning message in download.packages(pkgs, destdir = tmpd, available = available, :\n",
      "\"download of package 'terra' failed\"Warning message in download.file(url, destfile, method, mode = \"wb\", ...):\n",
      "\"InternetOpenUrl failed: 'A connection with the server could not be established'\""
     ]
    },
    {
     "name": "stdout",
     "output_type": "stream",
     "text": [
      "Error in download.file(url, destfile, method, mode = \"wb\", ...) : \n",
      "  cannot open URL 'https://cran.r-project.org/bin/windows/contrib/3.6/rlang_0.4.11.zip'\n"
     ]
    },
    {
     "name": "stderr",
     "output_type": "stream",
     "text": [
      "Warning message in download.packages(pkgs, destdir = tmpd, available = available, :\n",
      "\"download of package 'rlang' failed\"Warning message in download.file(url, destfile, method, mode = \"wb\", ...):\n",
      "\"InternetOpenUrl failed: 'A connection with the server could not be established'\""
     ]
    },
    {
     "name": "stdout",
     "output_type": "stream",
     "text": [
      "Error in download.file(url, destfile, method, mode = \"wb\", ...) : \n",
      "  cannot open URL 'https://cran.r-project.org/bin/windows/contrib/3.6/gridExtra_2.3.zip'\n"
     ]
    },
    {
     "name": "stderr",
     "output_type": "stream",
     "text": [
      "Warning message in download.packages(pkgs, destdir = tmpd, available = available, :\n",
      "\"download of package 'gridExtra' failed\"Warning message in download.file(url, destfile, method, mode = \"wb\", ...):\n",
      "\"InternetOpenUrl failed: 'A connection with the server could not be established'\""
     ]
    },
    {
     "name": "stdout",
     "output_type": "stream",
     "text": [
      "Error in download.file(url, destfile, method, mode = \"wb\", ...) : \n",
      "  cannot open URL 'https://cran.r-project.org/bin/windows/contrib/3.6/png_0.1-7.zip'\n"
     ]
    },
    {
     "name": "stderr",
     "output_type": "stream",
     "text": [
      "Warning message in download.packages(pkgs, destdir = tmpd, available = available, :\n",
      "\"download of package 'png' failed\"Warning message in download.file(url, destfile, method, mode = \"wb\", ...):\n",
      "\"InternetOpenUrl failed: 'A connection with the server could not be established'\""
     ]
    },
    {
     "name": "stdout",
     "output_type": "stream",
     "text": [
      "Error in download.file(url, destfile, method, mode = \"wb\", ...) : \n",
      "  cannot open URL 'https://cran.r-project.org/bin/windows/contrib/3.6/raster_3.4-10.zip'\n"
     ]
    },
    {
     "name": "stderr",
     "output_type": "stream",
     "text": [
      "Warning message in download.packages(pkgs, destdir = tmpd, available = available, :\n",
      "\"download of package 'raster' failed\"Warning message in download.file(url, destfile, method, mode = \"wb\", ...):\n",
      "\"InternetOpenUrl failed: 'A connection with the server could not be established'\""
     ]
    },
    {
     "name": "stdout",
     "output_type": "stream",
     "text": [
      "Error in download.file(url, destfile, method, mode = \"wb\", ...) : \n",
      "  cannot open URL 'https://cran.r-project.org/bin/windows/contrib/3.6/sp_1.4-5.zip'\n"
     ]
    },
    {
     "name": "stderr",
     "output_type": "stream",
     "text": [
      "Warning message in download.packages(pkgs, destdir = tmpd, available = available, :\n",
      "\"download of package 'sp' failed\"installing the source packages 'bslib', 'fontawesome', 'stringr', 'tinytex', 'gtable', 'knitr', 'rmarkdown', 'lifecycle', 'ggplot2', 'crosstalk', 'htmlwidgets', 'leaflet.providers', 'scales', 'viridis', 'leaflet'\n",
      "\n",
      "Warning message in download.file(url, destfile, method, mode = \"wb\", ...):\n",
      "\"InternetOpenUrl failed: 'A connection with the server could not be established'\""
     ]
    },
    {
     "name": "stdout",
     "output_type": "stream",
     "text": [
      "Error in download.file(url, destfile, method, mode = \"wb\", ...) : \n",
      "  cannot open URL 'https://cran.r-project.org/src/contrib/bslib_0.5.1.tar.gz'\n"
     ]
    },
    {
     "name": "stderr",
     "output_type": "stream",
     "text": [
      "Warning message in download.packages(pkgs, destdir = tmpd, available = available, :\n",
      "\"download of package 'bslib' failed\"Warning message in download.file(url, destfile, method, mode = \"wb\", ...):\n",
      "\"InternetOpenUrl failed: 'A connection with the server could not be established'\""
     ]
    },
    {
     "name": "stdout",
     "output_type": "stream",
     "text": [
      "Error in download.file(url, destfile, method, mode = \"wb\", ...) : \n",
      "  cannot open URL 'https://cran.r-project.org/src/contrib/fontawesome_0.5.2.tar.gz'\n"
     ]
    },
    {
     "name": "stderr",
     "output_type": "stream",
     "text": [
      "Warning message in download.packages(pkgs, destdir = tmpd, available = available, :\n",
      "\"download of package 'fontawesome' failed\"Warning message in download.file(url, destfile, method, mode = \"wb\", ...):\n",
      "\"InternetOpenUrl failed: 'A connection with the server could not be established'\""
     ]
    },
    {
     "name": "stdout",
     "output_type": "stream",
     "text": [
      "Error in download.file(url, destfile, method, mode = \"wb\", ...) : \n",
      "  cannot open URL 'https://cran.r-project.org/src/contrib/stringr_1.5.0.tar.gz'\n"
     ]
    },
    {
     "name": "stderr",
     "output_type": "stream",
     "text": [
      "Warning message in download.packages(pkgs, destdir = tmpd, available = available, :\n",
      "\"download of package 'stringr' failed\"Warning message in install.packages(\"leaflet\"):\n",
      "\"installation of package 'tinytex' had non-zero exit status\"Warning message in install.packages(\"leaflet\"):\n",
      "\"installation of package 'knitr' had non-zero exit status\"Warning message in install.packages(\"leaflet\"):\n",
      "\"installation of package 'lifecycle' had non-zero exit status\"Warning message in install.packages(\"leaflet\"):\n",
      "\"installation of package 'crosstalk' had non-zero exit status\"Warning message in install.packages(\"leaflet\"):\n",
      "\"installation of package 'gtable' had non-zero exit status\"Warning message in install.packages(\"leaflet\"):\n",
      "\"installation of package 'rmarkdown' had non-zero exit status\"Warning message in install.packages(\"leaflet\"):\n",
      "\"installation of package 'scales' had non-zero exit status\"Warning message in install.packages(\"leaflet\"):\n",
      "\"installation of package 'ggplot2' had non-zero exit status\"Warning message in install.packages(\"leaflet\"):\n",
      "\"installation of package 'htmlwidgets' had non-zero exit status\"Warning message in install.packages(\"leaflet\"):\n",
      "\"installation of package 'viridis' had non-zero exit status\"Warning message in install.packages(\"leaflet\"):\n",
      "\"installation of package 'leaflet' had non-zero exit status\""
     ]
    }
   ],
   "source": [
    "install.packages(\"leaflet\")"
   ]
  },
  {
   "cell_type": "code",
   "execution_count": null,
   "id": "f35dd9af",
   "metadata": {},
   "outputs": [],
   "source": []
  }
 ],
 "metadata": {
  "kernelspec": {
   "display_name": "R",
   "language": "R",
   "name": "ir"
  },
  "language_info": {
   "codemirror_mode": "r",
   "file_extension": ".r",
   "mimetype": "text/x-r-source",
   "name": "R",
   "pygments_lexer": "r",
   "version": "3.6.1"
  }
 },
 "nbformat": 4,
 "nbformat_minor": 5
}
